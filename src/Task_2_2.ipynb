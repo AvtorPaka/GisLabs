{
  "cells": [
    {
      "cell_type": "markdown",
      "metadata": {
        "id": "gyof5UDAITzS"
      },
      "source": [
        "# Демченко Георгий Павлович БПИ-235, Task02_Part02"
      ]
    },
    {
      "cell_type": "markdown",
      "metadata": {
        "id": "mtjKGxx41iyM"
      },
      "source": [
        "### Установка данных и подключение библиотек"
      ]
    },
    {
      "cell_type": "code",
      "execution_count": 1,
      "metadata": {
        "id": "LWMDZwvj1qon"
      },
      "outputs": [],
      "source": [
        "# Ссылка на папку яндекс диска, где располагаются необходимые данные - \"https://disk.yandex.ru/d/qgR2RTVMlfWmvg\"\n",
        "import requests\n",
        "from urllib.parse import urlencode\n",
        "\n",
        "url_to_data = 'https://cloud-api.yandex.net/v1/disk/public/resources/download?' + urlencode(dict(public_key = 'https://disk.yandex.ru/d/qgR2RTVMlfWmvg'))\n",
        "response = requests.get(url_to_data)\n",
        "download_url = response.json()['href']\n",
        "\n",
        "download_response = requests.get(download_url)\n",
        "with open('GEO_32637.zip', 'wb') as f:\n",
        "    f.write(download_response.content)"
      ]
    },
    {
      "cell_type": "code",
      "execution_count": null,
      "metadata": {
        "id": "0KdFgq026xal"
      },
      "outputs": [],
      "source": [
        "import geopandas, pandas, numpy, shapely\n",
        "!unzip -o GEO_32637.zip\n",
        "%pip install -U mapclassify\n",
        "import mapclassify\n",
        "from google.colab import files"
      ]
    },
    {
      "cell_type": "markdown",
      "metadata": {
        "id": "dTGIcBYw1tuj"
      },
      "source": [
        "## Задание №1 - \"Городское планирование\""
      ]
    },
    {
      "cell_type": "code",
      "execution_count": 3,
      "metadata": {
        "id": "44Z_hUiN12iO"
      },
      "outputs": [],
      "source": [
        "# @title Сперва загрузим необходимые объекты и создадим для них GDF\n",
        "def Get_GDF(obj_url):\n",
        "  particle_url = \"GEO_32637/DATA_32637/\"\n",
        "  return geopandas.read_file(f\"{particle_url}{obj_url}\")\n",
        "\n",
        "# Файл с созданным Linestring объектом в формате ESRI Shapefile был создан в QGIS и загружен в папку, откуда берём данные\n",
        "line_road_df = Get_GDF(\"road.shp\")\n",
        "railway_station_df = Get_GDF(\"railway-station-point_32637.shp\")\n",
        "buildings_poly_df = Get_GDF(\"building-polygon_32637.shp\")"
      ]
    },
    {
      "cell_type": "code",
      "execution_count": 4,
      "metadata": {
        "id": "4vmYvrsl_gqI"
      },
      "outputs": [],
      "source": [
        "# @title Теперь найдем остановки и здания, которые пересекаются с дорогой, ширина дороги - 20 метров\n",
        "# Сперва расширим дорогу до 20 метров в ширину\n",
        "line_road_df['geometry'] = numpy.where(line_road_df[\"NAME\"] == \"KG_to_HSE\", line_road_df.geometry.buffer(20), line_road_df.geometry)"
      ]
    },
    {
      "cell_type": "code",
      "execution_count": 5,
      "metadata": {
        "id": "494q4GbeD_X5"
      },
      "outputs": [],
      "source": [
        "#Найдем искомые объекты\n",
        "buildings_demolish_df = buildings_poly_df.sjoin(line_road_df, how = \"inner\", predicate = \"intersects\")\n",
        "railway_demolish_df = railway_station_df.sjoin(line_road_df, how = \"inner\", predicate = \"intersects\")"
      ]
    },
    {
      "cell_type": "code",
      "execution_count": null,
      "metadata": {
        "id": "Hu2dYKL6DjiN"
      },
      "outputs": [],
      "source": [
        "# @title Можем посмoтреть как выглядят полученные объекты на карте\n",
        "# 1\n",
        "line_road_df.explore()\n",
        "# 2\n",
        "# buildings_demolish_df.explore()\n",
        "# 3\n",
        "# railway_demolish_df.explore()"
      ]
    },
    {
      "cell_type": "markdown",
      "metadata": {
        "id": "ekxImr6mGmCc"
      },
      "source": [
        "### Скачаем полученные в задании №1 GDF в формате ESRI Shapefile"
      ]
    },
    {
      "cell_type": "code",
      "execution_count": null,
      "metadata": {
        "id": "2J5DeiiCGqdg"
      },
      "outputs": [],
      "source": [
        "# Сохранение данных о зданиях, которые необходимо снести\n",
        "buildings_demolish_df.to_file(\"building-demolish.shp\", mode = \"w\", crs = \"EPSG:32637\", driver='ESRI Shapefile', encoding = \"UTF-8\")\n",
        "files.download(\"building-demolish.shp\")"
      ]
    },
    {
      "cell_type": "code",
      "execution_count": null,
      "metadata": {
        "id": "LjNDdLHBGrF7"
      },
      "outputs": [],
      "source": [
        "buildings_demolish_df.to_file(\"building-demolish.dbf\", mode = \"w\", crs = \"EPSG:32637\", driver='ESRI Shapefile', encoding = \"UTF-8\")\n",
        "files.download(\"building-demolish.dbf\")"
      ]
    },
    {
      "cell_type": "code",
      "execution_count": null,
      "metadata": {
        "id": "oaiRD63kGrY9"
      },
      "outputs": [],
      "source": [
        "buildings_demolish_df.to_file(\"building-demolish.shx\", mode = \"w\", crs = \"EPSG:32637\", driver='ESRI Shapefile', encoding = \"UTF-8\")\n",
        "files.download(\"building-demolish.shx\")"
      ]
    },
    {
      "cell_type": "code",
      "execution_count": null,
      "metadata": {
        "id": "HbhzNkIzGsGe"
      },
      "outputs": [],
      "source": [
        "# Сохранение данных о станциях, которые необходимо снести\n",
        "railway_demolish_df.to_file(\"railway-demolish.shp\", mode = \"w\", crs = \"EPSG:32637\", driver='ESRI Shapefile', encoding = \"UTF-8\")\n",
        "files.download(\"railway-demolish.shp\")"
      ]
    },
    {
      "cell_type": "code",
      "execution_count": null,
      "metadata": {
        "id": "dYNkNssdGshy"
      },
      "outputs": [],
      "source": [
        "railway_demolish_df.to_file(\"railway-demolish.dbf\", mode = \"w\", crs = \"EPSG:32637\", driver='ESRI Shapefile', encoding = \"UTF-8\")\n",
        "files.download(\"railway-demolish.dbf\")"
      ]
    },
    {
      "cell_type": "code",
      "execution_count": null,
      "metadata": {
        "id": "cBLzsT8aGsx-"
      },
      "outputs": [],
      "source": [
        "railway_demolish_df.to_file(\"railway-demolish.shx\", mode = \"w\", crs = \"EPSG:32637\", driver='ESRI Shapefile', encoding = \"UTF-8\")\n",
        "files.download(\"railway-demolish.shx\")"
      ]
    },
    {
      "cell_type": "markdown",
      "metadata": {
        "id": "jhJGFkJj1Rwu"
      },
      "source": [
        "## Задание №2 - \"Доступность магазинов\"\n"
      ]
    },
    {
      "cell_type": "code",
      "execution_count": 16,
      "metadata": {
        "id": "X9OjX_dQ1eAE"
      },
      "outputs": [],
      "source": [
        "# @title Сперва загрузим необходимые объекты и создадим для них GDF\n",
        "poi_point_df = Get_GDF(\"poi-point_32637.shp\")\n",
        "railway_station_df = Get_GDF(\"railway-station-point_32637.shp\")"
      ]
    },
    {
      "cell_type": "code",
      "execution_count": 17,
      "metadata": {
        "id": "01-3Q32wBnEU"
      },
      "outputs": [],
      "source": [
        "# @title Проведём анализ полученных данных и установим какие обьекты нам нужны\n",
        "poi_point_df[\"SHOP\"].unique()\n",
        "lst_unacceptable_shops = [None, \"null\"]\n",
        "railway_station_df[\"RAILWAY\"].unique()\n",
        "lst_acceptable_stations = [\"tram_stop\"]"
      ]
    },
    {
      "cell_type": "code",
      "execution_count": null,
      "metadata": {
        "colab": {
          "base_uri": "https://localhost:8080/",
          "height": 206
        },
        "id": "Rhq0U8cU_9PL",
        "outputId": "b8613b5b-b4f8-471f-977d-34a09104df1a"
      },
      "outputs": [],
      "source": [
        "# @title Создадим необходимые объекты на основе анализа\n",
        "shop_points_df = poi_point_df[~(poi_point_df[\"SHOP\"].isin(lst_unacceptable_shops) == True)]\n",
        "tram_stop_df = railway_station_df[railway_station_df[\"RAILWAY\"].isin(lst_acceptable_stations) == True]\n",
        "tram_stop_area_df = tram_stop_df.copy()\n",
        "tram_stop_area_df[\"geometry\"] = numpy.where(tram_stop_area_df[\"RAILWAY\"] == \"tram_stop\", tram_stop_area_df.geometry.buffer(200), tram_stop_area_df.geometry)\n",
        "# Создадим GDF с информацией о магазинах, расположенных в пределе 200 метров от трамваной остановки\n",
        "shops_near_tram_stops_df = shop_points_df.sjoin(tram_stop_area_df, how = \"inner\", predicate = \"intersects\")\n",
        "shops_near_tram_stops_df.head()"
      ]
    },
    {
      "cell_type": "code",
      "execution_count": null,
      "metadata": {
        "id": "0PpDGEi9L_5Q"
      },
      "outputs": [],
      "source": [
        "# @title Создадим требуемый GDF с Linestring объектами на основе полуеных данных\n",
        "# Определим дополнительные функции\n",
        "def Get_TramStop_Name_OSM_Id(id):\n",
        "  name_cur = [x for x in tram_stop_df[tram_stop_df[\"OSM_ID\"] == id][\"NAME\"]][0]\n",
        "  if (name_cur == None):\n",
        "    return \"N/a\"\n",
        "  return name_cur\n",
        "\n",
        "def Get_Tram_Stop_Geometry_OSM_Id(id):\n",
        "  geometry_cur = [x for x in tram_stop_df[tram_stop_df[\"OSM_ID\"] == id][\"geometry\"]][0]\n",
        "  return geometry_cur\n",
        "\n",
        "# GDF с информацией о парах магазин - остановка уже был создан в предыдущеи пункте , осталось создать GDF c LineString объектами на основе этх пар\n",
        "lst_linestring_wkts = []\n",
        "data_for_LineString = {\"SHOP_NAME\": [],\n",
        "                          \"TRAM_S_N\": [],\n",
        "                          \"SHOP_TYPE\": [],\n",
        "                          \"DISTANCE\": []}\n",
        "\n",
        "for idx in range(len(shops_near_tram_stops_df)):\n",
        "  if idx % 100 == 0:\n",
        "    print(round(idx / len(shops_near_tram_stops_df) * 100, 2), '%')\n",
        "  cur_shop_name_tmp = [x for x in shops_near_tram_stops_df.iloc[[idx]][\"NAME_left\"]][0]\n",
        "  cur_shop_name = cur_shop_name_tmp if (cur_shop_name_tmp != None) else \"N/a\"\n",
        "  cur_shop_type = [x for x in shops_near_tram_stops_df.iloc[[idx]][\"SHOP\"]][0]\n",
        "  cur_tram_osm_id = [x for x in shops_near_tram_stops_df.iloc[[idx]][\"OSM_ID_right\"]][0]\n",
        "  cur_shop_point_geometry = [x for x in shops_near_tram_stops_df.iloc[[idx]][\"geometry\"]][0]\n",
        "  cur_tram_stop_name = Get_TramStop_Name_OSM_Id(cur_tram_osm_id)\n",
        "  cur_tram_stop_point_geometry = Get_Tram_Stop_Geometry_OSM_Id(cur_tram_osm_id)\n",
        "  cur_linestring = shapely.LineString([cur_shop_point_geometry, cur_tram_stop_point_geometry]).wkt\n",
        "  data_for_LineString[\"SHOP_NAME\"].append(cur_shop_name)\n",
        "  data_for_LineString[\"TRAM_S_N\"].append(cur_tram_stop_name)\n",
        "  data_for_LineString[\"SHOP_TYPE\"].append(cur_shop_type)\n",
        "  lst_linestring_wkts.append(cur_linestring)\n",
        "\n",
        "geom_linestring = geopandas.GeoSeries.from_wkt(lst_linestring_wkts, crs = 32637)\n",
        "data_for_LineString[\"DISTANCE\"] = [f\"{round(x.length, 2)} m.\" for x in geom_linestring]\n",
        "tram_shops_paths_df = geopandas.GeoDataFrame(data = data_for_LineString, geometry = geom_linestring)\n",
        "tram_shops_paths_df.head()"
      ]
    },
    {
      "cell_type": "code",
      "execution_count": null,
      "metadata": {
        "id": "GLL80wHbcRP9"
      },
      "outputs": [],
      "source": [
        "#@title Можно посмотреть как выглядят объекты из полученного GDF на карте\n",
        "tram_shops_paths_df.explore()"
      ]
    },
    {
      "cell_type": "markdown",
      "metadata": {
        "id": "mSCgvVIDk8d2"
      },
      "source": [
        "### Скачаем полученные в задании №2 GDF в формате ESRI Shapefile"
      ]
    },
    {
      "cell_type": "code",
      "execution_count": 21,
      "metadata": {
        "colab": {
          "base_uri": "https://localhost:8080/",
          "height": 17
        },
        "id": "6WXqDqcYxYWj",
        "outputId": "17866163-36d8-4be7-dde3-14bd4528def4"
      },
      "outputs": [
        {
          "data": {
            "application/javascript": "\n    async function download(id, filename, size) {\n      if (!google.colab.kernel.accessAllowed) {\n        return;\n      }\n      const div = document.createElement('div');\n      const label = document.createElement('label');\n      label.textContent = `Downloading \"${filename}\": `;\n      div.appendChild(label);\n      const progress = document.createElement('progress');\n      progress.max = size;\n      div.appendChild(progress);\n      document.body.appendChild(div);\n\n      const buffers = [];\n      let downloaded = 0;\n\n      const channel = await google.colab.kernel.comms.open(id);\n      // Send a message to notify the kernel that we're ready.\n      channel.send({})\n\n      for await (const message of channel.messages) {\n        // Send a message to notify the kernel that we're ready.\n        channel.send({})\n        if (message.buffers) {\n          for (const buffer of message.buffers) {\n            buffers.push(buffer);\n            downloaded += buffer.byteLength;\n            progress.value = downloaded;\n          }\n        }\n      }\n      const blob = new Blob(buffers, {type: 'application/binary'});\n      const a = document.createElement('a');\n      a.href = window.URL.createObjectURL(blob);\n      a.download = filename;\n      div.appendChild(a);\n      a.click();\n      div.remove();\n    }\n  ",
            "text/plain": [
              "<IPython.core.display.Javascript object>"
            ]
          },
          "metadata": {},
          "output_type": "display_data"
        },
        {
          "data": {
            "application/javascript": "download(\"download_66e80b5d-0498-4724-9cfb-39fdfb204651\", \"segments.shp\", 382108)",
            "text/plain": [
              "<IPython.core.display.Javascript object>"
            ]
          },
          "metadata": {},
          "output_type": "display_data"
        }
      ],
      "source": [
        "# Сохранение данных о сегметнах\n",
        "tram_shops_paths_df.to_file(\"segments.shp\", mode = \"w\", crs = \"EPSG:32637\", driver='ESRI Shapefile', encoding = \"UTF-8\")\n",
        "files.download(\"segments.shp\")"
      ]
    },
    {
      "cell_type": "code",
      "execution_count": 22,
      "metadata": {
        "colab": {
          "base_uri": "https://localhost:8080/",
          "height": 17
        },
        "id": "j_ZkU1ANDUUj",
        "outputId": "db6bbd82-ebd1-4ba5-d070-99156304ccf8"
      },
      "outputs": [
        {
          "data": {
            "application/javascript": "\n    async function download(id, filename, size) {\n      if (!google.colab.kernel.accessAllowed) {\n        return;\n      }\n      const div = document.createElement('div');\n      const label = document.createElement('label');\n      label.textContent = `Downloading \"${filename}\": `;\n      div.appendChild(label);\n      const progress = document.createElement('progress');\n      progress.max = size;\n      div.appendChild(progress);\n      document.body.appendChild(div);\n\n      const buffers = [];\n      let downloaded = 0;\n\n      const channel = await google.colab.kernel.comms.open(id);\n      // Send a message to notify the kernel that we're ready.\n      channel.send({})\n\n      for await (const message of channel.messages) {\n        // Send a message to notify the kernel that we're ready.\n        channel.send({})\n        if (message.buffers) {\n          for (const buffer of message.buffers) {\n            buffers.push(buffer);\n            downloaded += buffer.byteLength;\n            progress.value = downloaded;\n          }\n        }\n      }\n      const blob = new Blob(buffers, {type: 'application/binary'});\n      const a = document.createElement('a');\n      a.href = window.URL.createObjectURL(blob);\n      a.download = filename;\n      div.appendChild(a);\n      a.click();\n      div.remove();\n    }\n  ",
            "text/plain": [
              "<IPython.core.display.Javascript object>"
            ]
          },
          "metadata": {},
          "output_type": "display_data"
        },
        {
          "data": {
            "application/javascript": "download(\"download_13bbf754-219e-4cd3-bf70-8b04dc0e13bc\", \"segments.dbf\", 1623696)",
            "text/plain": [
              "<IPython.core.display.Javascript object>"
            ]
          },
          "metadata": {},
          "output_type": "display_data"
        }
      ],
      "source": [
        "tram_shops_paths_df.to_file(\"segments.dbf\", mode = \"w\", crs = \"EPSG:32637\", driver='ESRI Shapefile', encoding = \"UTF-8\")\n",
        "files.download(\"segments.dbf\")"
      ]
    },
    {
      "cell_type": "code",
      "execution_count": 23,
      "metadata": {
        "colab": {
          "base_uri": "https://localhost:8080/",
          "height": 17
        },
        "id": "bmQyV_42DXj-",
        "outputId": "201b443d-13fa-4d36-b878-f8c282990480"
      },
      "outputs": [
        {
          "data": {
            "application/javascript": "\n    async function download(id, filename, size) {\n      if (!google.colab.kernel.accessAllowed) {\n        return;\n      }\n      const div = document.createElement('div');\n      const label = document.createElement('label');\n      label.textContent = `Downloading \"${filename}\": `;\n      div.appendChild(label);\n      const progress = document.createElement('progress');\n      progress.max = size;\n      div.appendChild(progress);\n      document.body.appendChild(div);\n\n      const buffers = [];\n      let downloaded = 0;\n\n      const channel = await google.colab.kernel.comms.open(id);\n      // Send a message to notify the kernel that we're ready.\n      channel.send({})\n\n      for await (const message of channel.messages) {\n        // Send a message to notify the kernel that we're ready.\n        channel.send({})\n        if (message.buffers) {\n          for (const buffer of message.buffers) {\n            buffers.push(buffer);\n            downloaded += buffer.byteLength;\n            progress.value = downloaded;\n          }\n        }\n      }\n      const blob = new Blob(buffers, {type: 'application/binary'});\n      const a = document.createElement('a');\n      a.href = window.URL.createObjectURL(blob);\n      a.download = filename;\n      div.appendChild(a);\n      a.click();\n      div.remove();\n    }\n  ",
            "text/plain": [
              "<IPython.core.display.Javascript object>"
            ]
          },
          "metadata": {},
          "output_type": "display_data"
        },
        {
          "data": {
            "application/javascript": "download(\"download_538086b6-5846-42a9-9c47-fefca75288a1\", \"segments.shx\", 34828)",
            "text/plain": [
              "<IPython.core.display.Javascript object>"
            ]
          },
          "metadata": {},
          "output_type": "display_data"
        }
      ],
      "source": [
        "tram_shops_paths_df.to_file(\"segments.shx\", mode = \"w\", crs = \"EPSG:32637\", driver='ESRI Shapefile', encoding = \"UTF-8\")\n",
        "files.download(\"segments.shx\")"
      ]
    },
    {
      "cell_type": "code",
      "execution_count": null,
      "metadata": {
        "id": "k3G7yNlO9_Mu"
      },
      "outputs": [],
      "source": [
        "# Сохранение данных о трамвайных остановках\n",
        "tram_stop_df.to_file(\"tram_stop_poi.shp\", mode = \"w\", crs = \"EPSG:32637\", driver='ESRI Shapefile', encoding = \"UTF-8\")\n",
        "files.download(\"tram_stop_poi.shp\")"
      ]
    },
    {
      "cell_type": "code",
      "execution_count": null,
      "metadata": {
        "id": "JXzbFXA-De6H"
      },
      "outputs": [],
      "source": [
        "tram_stop_df.to_file(\"tram_stop_poi.dbf\", mode = \"w\", crs = \"EPSG:32637\", driver='ESRI Shapefile', encoding = \"UTF-8\")\n",
        "files.download(\"tram_stop_poi.dbf\")"
      ]
    },
    {
      "cell_type": "code",
      "execution_count": null,
      "metadata": {
        "id": "1UIA6hLyDluZ"
      },
      "outputs": [],
      "source": [
        "tram_stop_df.to_file(\"tram_stop_poi.shx\", mode = \"w\", crs = \"EPSG:32637\", driver='ESRI Shapefile', encoding = \"UTF-8\")\n",
        "files.download(\"tram_stop_poi.shx\")"
      ]
    },
    {
      "cell_type": "code",
      "execution_count": null,
      "metadata": {
        "id": "7jO8ri4OOYfy"
      },
      "outputs": [],
      "source": [
        "# Сохранение данных о магазинах вблизи трамвайных остановок\n",
        "shops_near_tram_stops_df.to_file(\"shop_near_stops_poi.shp\", mode = \"w\", driver='ESRI Shapefile', crs = \"EPSG:32637\", encoding = \"UTF-8\")\n",
        "files.download(\"shop_near_stops_poi.shp\")"
      ]
    },
    {
      "cell_type": "code",
      "execution_count": null,
      "metadata": {
        "id": "_g7j-knjO-FE"
      },
      "outputs": [],
      "source": [
        "shops_near_tram_stops_df.to_file(\"shop_near_stops_poi.dbf\", mode = \"w\", driver='ESRI Shapefile', crs = \"EPSG:32637\", encoding = \"UTF-8\")\n",
        "files.download(\"shop_near_stops_poi.dbf\")"
      ]
    },
    {
      "cell_type": "code",
      "execution_count": null,
      "metadata": {
        "id": "-fBfp0epPFPp"
      },
      "outputs": [],
      "source": [
        "shops_near_tram_stops_df.to_file(\"shop_near_stops_poi.shx\", mode = \"w\", driver='ESRI Shapefile', crs = \"EPSG:32637\", encoding = \"UTF-8\")\n",
        "files.download(\"shop_near_stops_poi.shx\")"
      ]
    }
  ],
  "metadata": {
    "colab": {
      "provenance": []
    },
    "kernelspec": {
      "display_name": "Python 3",
      "name": "python3"
    },
    "language_info": {
      "name": "python"
    }
  },
  "nbformat": 4,
  "nbformat_minor": 0
}
