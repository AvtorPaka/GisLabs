{
  "cells": [
    {
      "cell_type": "markdown",
      "metadata": {
        "id": "gyof5UDAITzS"
      },
      "source": [
        "# Демченко Георгий Павлович БПИ-235, Task02_Part02"
      ]
    },
    {
      "cell_type": "markdown",
      "metadata": {
        "id": "mtjKGxx41iyM"
      },
      "source": [
        "### Установка данных и подключение библиотек"
      ]
    },
    {
      "cell_type": "code",
      "execution_count": 1,
      "metadata": {
        "id": "LWMDZwvj1qon"
      },
      "outputs": [],
      "source": [
        "# Ссылка на папку яндекс диска, где располагаются необходимые данные - \"https://disk.yandex.ru/d/qgR2RTVMlfWmvg\"\n",
        "import requests\n",
        "from urllib.parse import urlencode\n",
        "\n",
        "url_to_data = 'https://cloud-api.yandex.net/v1/disk/public/resources/download?' + urlencode(dict(public_key = 'https://disk.yandex.ru/d/qgR2RTVMlfWmvg'))\n",
        "response = requests.get(url_to_data)\n",
        "download_url = response.json()['href']\n",
        "\n",
        "download_response = requests.get(download_url)\n",
        "with open('GEO_32637.zip', 'wb') as f:\n",
        "    f.write(download_response.content)"
      ]
    },
    {
      "cell_type": "code",
      "execution_count": null,
      "metadata": {
        "id": "0KdFgq026xal"
      },
      "outputs": [],
      "source": [
        "import geopandas, pandas, numpy, shapely\n",
        "!unzip -o GEO_32637.zip\n",
        "%pip install -U mapclassify\n",
        "import mapclassify\n",
        "from google.colab import files"
      ]
    },
    {
      "cell_type": "markdown",
      "metadata": {
        "id": "dTGIcBYw1tuj"
      },
      "source": [
        "## Задание №1 - \"Городское планирование\""
      ]
    },
    {
      "cell_type": "code",
      "execution_count": 3,
      "metadata": {
        "id": "44Z_hUiN12iO"
      },
      "outputs": [],
      "source": [
        "# @title Сперва загрузим необходимые объекты и создадим для них GDF\n",
        "def Get_GDF(obj_url):\n",
        "  particle_url = \"GEO_32637/DATA_32637/\"\n",
        "  return geopandas.read_file(f\"{particle_url}{obj_url}\")\n",
        "\n",
        "# Файл с созданным Linestring объектом в формате ESRI Shapefile был создан в QGIS и загружен в папку, откуда берём данные\n",
        "line_road_df = Get_GDF(\"road.shp\")\n",
        "railway_station_df = Get_GDF(\"railway-station-point_32637.shp\")\n",
        "buildings_poly_df = Get_GDF(\"building-polygon_32637.shp\")"
      ]
    },
    {
      "cell_type": "code",
      "execution_count": 4,
      "metadata": {
        "id": "4vmYvrsl_gqI"
      },
      "outputs": [],
      "source": [
        "# @title Теперь найдем остановки и здания, которые пересекаются с дорогой, ширина дороги - 20 метров\n",
        "# Сперва расширим дорогу до 20 метров в ширину\n",
        "line_road_df['geometry'] = numpy.where(line_road_df[\"NAME\"] == \"KG_to_HSE\", line_road_df.geometry.buffer(20), line_road_df.geometry)"
      ]
    },
    {
      "cell_type": "code",
      "execution_count": 5,
      "metadata": {
        "id": "494q4GbeD_X5"
      },
      "outputs": [],
      "source": [
        "#Найдем искомые объекты\n",
        "buildings_demolish_df = buildings_poly_df.sjoin(line_road_df, how = \"inner\", predicate = \"intersects\")\n",
        "railway_demolish_df = railway_station_df.sjoin(line_road_df, how = \"inner\", predicate = \"intersects\")"
      ]
    },
    {
      "cell_type": "code",
      "execution_count": null,
      "metadata": {
        "id": "Hu2dYKL6DjiN"
      },
      "outputs": [],
      "source": [
        "# @title Можем посмoтреть как выглядят полученные объекты на карте\n",
        "# 1\n",
        "line_road_df.explore()\n",
        "# 2\n",
        "# buildings_demolish_df.explore()\n",
        "# 3\n",
        "# railway_demolish_df.explore()"
      ]
    },
    {
      "cell_type": "markdown",
      "metadata": {
        "id": "ekxImr6mGmCc"
      },
      "source": [
        "### Скачаем полученные в задании №1 GDF в формате ESRI Shapefile"
      ]
    },
    {
      "cell_type": "code",
      "execution_count": null,
      "metadata": {
        "id": "2J5DeiiCGqdg"
      },
      "outputs": [],
      "source": [
        "# Сохранение данных о зданиях, которые необходимо снести\n",
        "buildings_demolish_df.to_file(\"building-demolish.shp\", mode = \"w\", crs = \"EPSG:32637\", driver='ESRI Shapefile', encoding = \"UTF-8\")\n",
        "files.download(\"building-demolish.shp\")"
      ]
    },
    {
      "cell_type": "code",
      "execution_count": null,
      "metadata": {
        "id": "LjNDdLHBGrF7"
      },
      "outputs": [],
      "source": [
        "buildings_demolish_df.to_file(\"building-demolish.dbf\", mode = \"w\", crs = \"EPSG:32637\", driver='ESRI Shapefile', encoding = \"UTF-8\")\n",
        "files.download(\"building-demolish.dbf\")"
      ]
    },
    {
      "cell_type": "code",
      "execution_count": null,
      "metadata": {
        "id": "oaiRD63kGrY9"
      },
      "outputs": [],
      "source": [
        "buildings_demolish_df.to_file(\"building-demolish.shx\", mode = \"w\", crs = \"EPSG:32637\", driver='ESRI Shapefile', encoding = \"UTF-8\")\n",
        "files.download(\"building-demolish.shx\")"
      ]
    },
    {
      "cell_type": "code",
      "execution_count": null,
      "metadata": {
        "id": "HbhzNkIzGsGe"
      },
      "outputs": [],
      "source": [
        "# Сохранение данных о станциях, которые необходимо снести\n",
        "railway_demolish_df.to_file(\"railway-demolish.shp\", mode = \"w\", crs = \"EPSG:32637\", driver='ESRI Shapefile', encoding = \"UTF-8\")\n",
        "files.download(\"railway-demolish.shp\")"
      ]
    },
    {
      "cell_type": "code",
      "execution_count": null,
      "metadata": {
        "id": "dYNkNssdGshy"
      },
      "outputs": [],
      "source": [
        "railway_demolish_df.to_file(\"railway-demolish.dbf\", mode = \"w\", crs = \"EPSG:32637\", driver='ESRI Shapefile', encoding = \"UTF-8\")\n",
        "files.download(\"railway-demolish.dbf\")"
      ]
    },
    {
      "cell_type": "code",
      "execution_count": null,
      "metadata": {
        "id": "cBLzsT8aGsx-"
      },
      "outputs": [],
      "source": [
        "railway_demolish_df.to_file(\"railway-demolish.shx\", mode = \"w\", crs = \"EPSG:32637\", driver='ESRI Shapefile', encoding = \"UTF-8\")\n",
        "files.download(\"railway-demolish.shx\")"
      ]
    },
    {
      "cell_type": "markdown",
      "metadata": {
        "id": "jhJGFkJj1Rwu"
      },
      "source": [
        "## Задание №2 - \"Доступность магазинов\"\n"
      ]
    },
    {
      "cell_type": "code",
      "execution_count": 16,
      "metadata": {
        "id": "X9OjX_dQ1eAE"
      },
      "outputs": [],
      "source": [
        "# @title Сперва загрузим необходимые объекты и создадим для них GDF\n",
        "poi_point_df = Get_GDF(\"poi-point_32637.shp\")\n",
        "railway_station_df = Get_GDF(\"railway-station-point_32637.shp\")"
      ]
    },
    {
      "cell_type": "code",
      "execution_count": 17,
      "metadata": {
        "id": "01-3Q32wBnEU"
      },
      "outputs": [],
      "source": [
        "# @title Проведём анализ полученных данных и установим какие обьекты нам нужны\n",
        "poi_point_df[\"SHOP\"].unique()\n",
        "lst_unacceptable_shops = [None, \"null\"]\n",
        "railway_station_df[\"RAILWAY\"].unique()\n",
        "lst_acceptable_stations = [\"tram_stop\"]"
      ]
    },
    {
      "cell_type": "code",
      "execution_count": 18,
      "metadata": {
        "colab": {
          "base_uri": "https://localhost:8080/",
          "height": 206
        },
        "id": "Rhq0U8cU_9PL",
        "outputId": "b8613b5b-b4f8-471f-977d-34a09104df1a"
      },
      "outputs": [
        {
          "data": {
            "text/html": [
              "\n",
              "  <div id=\"df-9f7fe345-14b0-46f8-a87d-cecca586def7\" class=\"colab-df-container\">\n",
              "    <div>\n",
              "<style scoped>\n",
              "    .dataframe tbody tr th:only-of-type {\n",
              "        vertical-align: middle;\n",
              "    }\n",
              "\n",
              "    .dataframe tbody tr th {\n",
              "        vertical-align: top;\n",
              "    }\n",
              "\n",
              "    .dataframe thead th {\n",
              "        text-align: right;\n",
              "    }\n",
              "</style>\n",
              "<table border=\"1\" class=\"dataframe\">\n",
              "  <thead>\n",
              "    <tr style=\"text-align: right;\">\n",
              "      <th></th>\n",
              "      <th>OSM_ID_left</th>\n",
              "      <th>NAME_left</th>\n",
              "      <th>MAN_MADE</th>\n",
              "      <th>LEISURE</th>\n",
              "      <th>AMENITY</th>\n",
              "      <th>OFFICE</th>\n",
              "      <th>SHOP</th>\n",
              "      <th>TOURISM</th>\n",
              "      <th>SPORT</th>\n",
              "      <th>geometry</th>\n",
              "      <th>index_right</th>\n",
              "      <th>OSM_ID_right</th>\n",
              "      <th>NAME_right</th>\n",
              "      <th>RAILWAY</th>\n",
              "    </tr>\n",
              "  </thead>\n",
              "  <tbody>\n",
              "    <tr>\n",
              "      <th>2226</th>\n",
              "      <td>7.126169e+08</td>\n",
              "      <td>None</td>\n",
              "      <td>None</td>\n",
              "      <td>None</td>\n",
              "      <td>None</td>\n",
              "      <td>None</td>\n",
              "      <td>hairdresser</td>\n",
              "      <td>None</td>\n",
              "      <td>None</td>\n",
              "      <td>POINT (399193.133 6185127.238)</td>\n",
              "      <td>37</td>\n",
              "      <td>946193043.0</td>\n",
              "      <td>Улица Кулакова</td>\n",
              "      <td>tram_stop</td>\n",
              "    </tr>\n",
              "    <tr>\n",
              "      <th>2226</th>\n",
              "      <td>7.126169e+08</td>\n",
              "      <td>None</td>\n",
              "      <td>None</td>\n",
              "      <td>None</td>\n",
              "      <td>None</td>\n",
              "      <td>None</td>\n",
              "      <td>hairdresser</td>\n",
              "      <td>None</td>\n",
              "      <td>None</td>\n",
              "      <td>POINT (399193.133 6185127.238)</td>\n",
              "      <td>36</td>\n",
              "      <td>834436582.0</td>\n",
              "      <td>Улица Кулакова</td>\n",
              "      <td>tram_stop</td>\n",
              "    </tr>\n",
              "    <tr>\n",
              "      <th>2226</th>\n",
              "      <td>7.126169e+08</td>\n",
              "      <td>None</td>\n",
              "      <td>None</td>\n",
              "      <td>None</td>\n",
              "      <td>None</td>\n",
              "      <td>None</td>\n",
              "      <td>hairdresser</td>\n",
              "      <td>None</td>\n",
              "      <td>None</td>\n",
              "      <td>POINT (399193.133 6185127.238)</td>\n",
              "      <td>34</td>\n",
              "      <td>944665395.0</td>\n",
              "      <td>Таллинская улица</td>\n",
              "      <td>tram_stop</td>\n",
              "    </tr>\n",
              "    <tr>\n",
              "      <th>2226</th>\n",
              "      <td>7.126169e+08</td>\n",
              "      <td>None</td>\n",
              "      <td>None</td>\n",
              "      <td>None</td>\n",
              "      <td>None</td>\n",
              "      <td>None</td>\n",
              "      <td>hairdresser</td>\n",
              "      <td>None</td>\n",
              "      <td>None</td>\n",
              "      <td>POINT (399193.133 6185127.238)</td>\n",
              "      <td>35</td>\n",
              "      <td>250559604.0</td>\n",
              "      <td>Таллинская улица</td>\n",
              "      <td>tram_stop</td>\n",
              "    </tr>\n",
              "    <tr>\n",
              "      <th>2304</th>\n",
              "      <td>1.119409e+09</td>\n",
              "      <td>М.Видео</td>\n",
              "      <td>None</td>\n",
              "      <td>None</td>\n",
              "      <td>None</td>\n",
              "      <td>None</td>\n",
              "      <td>electronics</td>\n",
              "      <td>None</td>\n",
              "      <td>None</td>\n",
              "      <td>POINT (399415.838 6185651.527)</td>\n",
              "      <td>39</td>\n",
              "      <td>944656870.0</td>\n",
              "      <td>Строгинский бульвар</td>\n",
              "      <td>tram_stop</td>\n",
              "    </tr>\n",
              "  </tbody>\n",
              "</table>\n",
              "</div>\n",
              "    <div class=\"colab-df-buttons\">\n",
              "\n",
              "  <div class=\"colab-df-container\">\n",
              "    <button class=\"colab-df-convert\" onclick=\"convertToInteractive('df-9f7fe345-14b0-46f8-a87d-cecca586def7')\"\n",
              "            title=\"Convert this dataframe to an interactive table.\"\n",
              "            style=\"display:none;\">\n",
              "\n",
              "  <svg xmlns=\"http://www.w3.org/2000/svg\" height=\"24px\" viewBox=\"0 -960 960 960\">\n",
              "    <path d=\"M120-120v-720h720v720H120Zm60-500h600v-160H180v160Zm220 220h160v-160H400v160Zm0 220h160v-160H400v160ZM180-400h160v-160H180v160Zm440 0h160v-160H620v160ZM180-180h160v-160H180v160Zm440 0h160v-160H620v160Z\"/>\n",
              "  </svg>\n",
              "    </button>\n",
              "\n",
              "  <style>\n",
              "    .colab-df-container {\n",
              "      display:flex;\n",
              "      gap: 12px;\n",
              "    }\n",
              "\n",
              "    .colab-df-convert {\n",
              "      background-color: #E8F0FE;\n",
              "      border: none;\n",
              "      border-radius: 50%;\n",
              "      cursor: pointer;\n",
              "      display: none;\n",
              "      fill: #1967D2;\n",
              "      height: 32px;\n",
              "      padding: 0 0 0 0;\n",
              "      width: 32px;\n",
              "    }\n",
              "\n",
              "    .colab-df-convert:hover {\n",
              "      background-color: #E2EBFA;\n",
              "      box-shadow: 0px 1px 2px rgba(60, 64, 67, 0.3), 0px 1px 3px 1px rgba(60, 64, 67, 0.15);\n",
              "      fill: #174EA6;\n",
              "    }\n",
              "\n",
              "    .colab-df-buttons div {\n",
              "      margin-bottom: 4px;\n",
              "    }\n",
              "\n",
              "    [theme=dark] .colab-df-convert {\n",
              "      background-color: #3B4455;\n",
              "      fill: #D2E3FC;\n",
              "    }\n",
              "\n",
              "    [theme=dark] .colab-df-convert:hover {\n",
              "      background-color: #434B5C;\n",
              "      box-shadow: 0px 1px 3px 1px rgba(0, 0, 0, 0.15);\n",
              "      filter: drop-shadow(0px 1px 2px rgba(0, 0, 0, 0.3));\n",
              "      fill: #FFFFFF;\n",
              "    }\n",
              "  </style>\n",
              "\n",
              "    <script>\n",
              "      const buttonEl =\n",
              "        document.querySelector('#df-9f7fe345-14b0-46f8-a87d-cecca586def7 button.colab-df-convert');\n",
              "      buttonEl.style.display =\n",
              "        google.colab.kernel.accessAllowed ? 'block' : 'none';\n",
              "\n",
              "      async function convertToInteractive(key) {\n",
              "        const element = document.querySelector('#df-9f7fe345-14b0-46f8-a87d-cecca586def7');\n",
              "        const dataTable =\n",
              "          await google.colab.kernel.invokeFunction('convertToInteractive',\n",
              "                                                    [key], {});\n",
              "        if (!dataTable) return;\n",
              "\n",
              "        const docLinkHtml = 'Like what you see? Visit the ' +\n",
              "          '<a target=\"_blank\" href=https://colab.research.google.com/notebooks/data_table.ipynb>data table notebook</a>'\n",
              "          + ' to learn more about interactive tables.';\n",
              "        element.innerHTML = '';\n",
              "        dataTable['output_type'] = 'display_data';\n",
              "        await google.colab.output.renderOutput(dataTable, element);\n",
              "        const docLink = document.createElement('div');\n",
              "        docLink.innerHTML = docLinkHtml;\n",
              "        element.appendChild(docLink);\n",
              "      }\n",
              "    </script>\n",
              "  </div>\n",
              "\n",
              "\n",
              "<div id=\"df-848b930f-68f1-43c1-aea9-11521f9816e7\">\n",
              "  <button class=\"colab-df-quickchart\" onclick=\"quickchart('df-848b930f-68f1-43c1-aea9-11521f9816e7')\"\n",
              "            title=\"Suggest charts\"\n",
              "            style=\"display:none;\">\n",
              "\n",
              "<svg xmlns=\"http://www.w3.org/2000/svg\" height=\"24px\"viewBox=\"0 0 24 24\"\n",
              "     width=\"24px\">\n",
              "    <g>\n",
              "        <path d=\"M19 3H5c-1.1 0-2 .9-2 2v14c0 1.1.9 2 2 2h14c1.1 0 2-.9 2-2V5c0-1.1-.9-2-2-2zM9 17H7v-7h2v7zm4 0h-2V7h2v10zm4 0h-2v-4h2v4z\"/>\n",
              "    </g>\n",
              "</svg>\n",
              "  </button>\n",
              "\n",
              "<style>\n",
              "  .colab-df-quickchart {\n",
              "      --bg-color: #E8F0FE;\n",
              "      --fill-color: #1967D2;\n",
              "      --hover-bg-color: #E2EBFA;\n",
              "      --hover-fill-color: #174EA6;\n",
              "      --disabled-fill-color: #AAA;\n",
              "      --disabled-bg-color: #DDD;\n",
              "  }\n",
              "\n",
              "  [theme=dark] .colab-df-quickchart {\n",
              "      --bg-color: #3B4455;\n",
              "      --fill-color: #D2E3FC;\n",
              "      --hover-bg-color: #434B5C;\n",
              "      --hover-fill-color: #FFFFFF;\n",
              "      --disabled-bg-color: #3B4455;\n",
              "      --disabled-fill-color: #666;\n",
              "  }\n",
              "\n",
              "  .colab-df-quickchart {\n",
              "    background-color: var(--bg-color);\n",
              "    border: none;\n",
              "    border-radius: 50%;\n",
              "    cursor: pointer;\n",
              "    display: none;\n",
              "    fill: var(--fill-color);\n",
              "    height: 32px;\n",
              "    padding: 0;\n",
              "    width: 32px;\n",
              "  }\n",
              "\n",
              "  .colab-df-quickchart:hover {\n",
              "    background-color: var(--hover-bg-color);\n",
              "    box-shadow: 0 1px 2px rgba(60, 64, 67, 0.3), 0 1px 3px 1px rgba(60, 64, 67, 0.15);\n",
              "    fill: var(--button-hover-fill-color);\n",
              "  }\n",
              "\n",
              "  .colab-df-quickchart-complete:disabled,\n",
              "  .colab-df-quickchart-complete:disabled:hover {\n",
              "    background-color: var(--disabled-bg-color);\n",
              "    fill: var(--disabled-fill-color);\n",
              "    box-shadow: none;\n",
              "  }\n",
              "\n",
              "  .colab-df-spinner {\n",
              "    border: 2px solid var(--fill-color);\n",
              "    border-color: transparent;\n",
              "    border-bottom-color: var(--fill-color);\n",
              "    animation:\n",
              "      spin 1s steps(1) infinite;\n",
              "  }\n",
              "\n",
              "  @keyframes spin {\n",
              "    0% {\n",
              "      border-color: transparent;\n",
              "      border-bottom-color: var(--fill-color);\n",
              "      border-left-color: var(--fill-color);\n",
              "    }\n",
              "    20% {\n",
              "      border-color: transparent;\n",
              "      border-left-color: var(--fill-color);\n",
              "      border-top-color: var(--fill-color);\n",
              "    }\n",
              "    30% {\n",
              "      border-color: transparent;\n",
              "      border-left-color: var(--fill-color);\n",
              "      border-top-color: var(--fill-color);\n",
              "      border-right-color: var(--fill-color);\n",
              "    }\n",
              "    40% {\n",
              "      border-color: transparent;\n",
              "      border-right-color: var(--fill-color);\n",
              "      border-top-color: var(--fill-color);\n",
              "    }\n",
              "    60% {\n",
              "      border-color: transparent;\n",
              "      border-right-color: var(--fill-color);\n",
              "    }\n",
              "    80% {\n",
              "      border-color: transparent;\n",
              "      border-right-color: var(--fill-color);\n",
              "      border-bottom-color: var(--fill-color);\n",
              "    }\n",
              "    90% {\n",
              "      border-color: transparent;\n",
              "      border-bottom-color: var(--fill-color);\n",
              "    }\n",
              "  }\n",
              "</style>\n",
              "\n",
              "  <script>\n",
              "    async function quickchart(key) {\n",
              "      const quickchartButtonEl =\n",
              "        document.querySelector('#' + key + ' button');\n",
              "      quickchartButtonEl.disabled = true;  // To prevent multiple clicks.\n",
              "      quickchartButtonEl.classList.add('colab-df-spinner');\n",
              "      try {\n",
              "        const charts = await google.colab.kernel.invokeFunction(\n",
              "            'suggestCharts', [key], {});\n",
              "      } catch (error) {\n",
              "        console.error('Error during call to suggestCharts:', error);\n",
              "      }\n",
              "      quickchartButtonEl.classList.remove('colab-df-spinner');\n",
              "      quickchartButtonEl.classList.add('colab-df-quickchart-complete');\n",
              "    }\n",
              "    (() => {\n",
              "      let quickchartButtonEl =\n",
              "        document.querySelector('#df-848b930f-68f1-43c1-aea9-11521f9816e7 button');\n",
              "      quickchartButtonEl.style.display =\n",
              "        google.colab.kernel.accessAllowed ? 'block' : 'none';\n",
              "    })();\n",
              "  </script>\n",
              "</div>\n",
              "    </div>\n",
              "  </div>\n"
            ],
            "text/plain": [
              "       OSM_ID_left NAME_left MAN_MADE LEISURE AMENITY OFFICE         SHOP  \\\n",
              "2226  7.126169e+08      None     None    None    None   None  hairdresser   \n",
              "2226  7.126169e+08      None     None    None    None   None  hairdresser   \n",
              "2226  7.126169e+08      None     None    None    None   None  hairdresser   \n",
              "2226  7.126169e+08      None     None    None    None   None  hairdresser   \n",
              "2304  1.119409e+09   М.Видео     None    None    None   None  electronics   \n",
              "\n",
              "     TOURISM SPORT                        geometry  index_right  OSM_ID_right  \\\n",
              "2226    None  None  POINT (399193.133 6185127.238)           37   946193043.0   \n",
              "2226    None  None  POINT (399193.133 6185127.238)           36   834436582.0   \n",
              "2226    None  None  POINT (399193.133 6185127.238)           34   944665395.0   \n",
              "2226    None  None  POINT (399193.133 6185127.238)           35   250559604.0   \n",
              "2304    None  None  POINT (399415.838 6185651.527)           39   944656870.0   \n",
              "\n",
              "               NAME_right    RAILWAY  \n",
              "2226       Улица Кулакова  tram_stop  \n",
              "2226       Улица Кулакова  tram_stop  \n",
              "2226     Таллинская улица  tram_stop  \n",
              "2226     Таллинская улица  tram_stop  \n",
              "2304  Строгинский бульвар  tram_stop  "
            ]
          },
          "execution_count": 18,
          "metadata": {},
          "output_type": "execute_result"
        }
      ],
      "source": [
        "# @title Создадим необходимые объекты на основе анализа\n",
        "shop_points_df = poi_point_df[~(poi_point_df[\"SHOP\"].isin(lst_unacceptable_shops) == True)]\n",
        "tram_stop_df = railway_station_df[railway_station_df[\"RAILWAY\"].isin(lst_acceptable_stations) == True]\n",
        "tram_stop_area_df = tram_stop_df.copy()\n",
        "tram_stop_area_df[\"geometry\"] = numpy.where(tram_stop_area_df[\"RAILWAY\"] == \"tram_stop\", tram_stop_area_df.geometry.buffer(200), tram_stop_area_df.geometry)\n",
        "# Создадим GDF с информацией о магазинах, расположенных в пределе 200 метров от трамваной остановки\n",
        "shops_near_tram_stops_df = shop_points_df.sjoin(tram_stop_area_df, how = \"inner\", predicate = \"intersects\")\n",
        "shops_near_tram_stops_df.head()"
      ]
    },
    {
      "cell_type": "code",
      "execution_count": null,
      "metadata": {
        "id": "0PpDGEi9L_5Q"
      },
      "outputs": [],
      "source": [
        "# @title Создадим требуемый GDF с Linestring объектами на основе полуеных данных\n",
        "# Определим дополнительные функции\n",
        "def Get_TramStop_Name_OSM_Id(id):\n",
        "  name_cur = [x for x in tram_stop_df[tram_stop_df[\"OSM_ID\"] == id][\"NAME\"]][0]\n",
        "  if (name_cur == None):\n",
        "    return \"N/a\"\n",
        "  return name_cur\n",
        "\n",
        "def Get_Tram_Stop_Geometry_OSM_Id(id):\n",
        "  geometry_cur = [x for x in tram_stop_df[tram_stop_df[\"OSM_ID\"] == id][\"geometry\"]][0]\n",
        "  return geometry_cur\n",
        "\n",
        "# GDF с информацией о парах магазин - остановка уже был создан в предыдущеи пункте , осталось создать GDF c LineString объектами на основе этх пар\n",
        "lst_linestring_wkts = []\n",
        "data_for_LineString = {\"SHOP_NAME\": [],\n",
        "                          \"TRAM_S_N\": [],\n",
        "                          \"SHOP_TYPE\": [],\n",
        "                          \"DISTANCE\": []}\n",
        "\n",
        "for idx in range(len(shops_near_tram_stops_df)):\n",
        "  if idx % 100 == 0:\n",
        "    print(round(idx / len(shops_near_tram_stops_df) * 100, 2), '%')\n",
        "  cur_shop_name_tmp = [x for x in shops_near_tram_stops_df.iloc[[idx]][\"NAME_left\"]][0]\n",
        "  cur_shop_name = cur_shop_name_tmp if (cur_shop_name_tmp != None) else \"N/a\"\n",
        "  cur_shop_type = [x for x in shops_near_tram_stops_df.iloc[[idx]][\"SHOP\"]][0]\n",
        "  cur_tram_osm_id = [x for x in shops_near_tram_stops_df.iloc[[idx]][\"OSM_ID_right\"]][0]\n",
        "  cur_shop_point_geometry = [x for x in shops_near_tram_stops_df.iloc[[idx]][\"geometry\"]][0]\n",
        "  cur_tram_stop_name = Get_TramStop_Name_OSM_Id(cur_tram_osm_id)\n",
        "  cur_tram_stop_point_geometry = Get_Tram_Stop_Geometry_OSM_Id(cur_tram_osm_id)\n",
        "  cur_linestring = shapely.LineString([cur_shop_point_geometry, cur_tram_stop_point_geometry]).wkt\n",
        "  data_for_LineString[\"SHOP_NAME\"].append(cur_shop_name)\n",
        "  data_for_LineString[\"TRAM_S_N\"].append(cur_tram_stop_name)\n",
        "  data_for_LineString[\"SHOP_TYPE\"].append(cur_shop_type)\n",
        "  lst_linestring_wkts.append(cur_linestring)\n",
        "\n",
        "geom_linestring = geopandas.GeoSeries.from_wkt(lst_linestring_wkts, crs = 32637)\n",
        "data_for_LineString[\"DISTANCE\"] = [f\"{round(x.length, 2)} m.\" for x in geom_linestring]\n",
        "tram_shops_paths_df = geopandas.GeoDataFrame(data = data_for_LineString, geometry = geom_linestring)\n",
        "tram_shops_paths_df.head()"
      ]
    },
    {
      "cell_type": "code",
      "execution_count": null,
      "metadata": {
        "id": "GLL80wHbcRP9"
      },
      "outputs": [],
      "source": [
        "#@title Можно посмотреть как выглядят объекты из полученного GDF на карте\n",
        "tram_shops_paths_df.explore()"
      ]
    },
    {
      "cell_type": "markdown",
      "metadata": {
        "id": "mSCgvVIDk8d2"
      },
      "source": [
        "### Скачаем полученные в задании №2 GDF в формате ESRI Shapefile"
      ]
    },
    {
      "cell_type": "code",
      "execution_count": 21,
      "metadata": {
        "colab": {
          "base_uri": "https://localhost:8080/",
          "height": 17
        },
        "id": "6WXqDqcYxYWj",
        "outputId": "17866163-36d8-4be7-dde3-14bd4528def4"
      },
      "outputs": [
        {
          "data": {
            "application/javascript": "\n    async function download(id, filename, size) {\n      if (!google.colab.kernel.accessAllowed) {\n        return;\n      }\n      const div = document.createElement('div');\n      const label = document.createElement('label');\n      label.textContent = `Downloading \"${filename}\": `;\n      div.appendChild(label);\n      const progress = document.createElement('progress');\n      progress.max = size;\n      div.appendChild(progress);\n      document.body.appendChild(div);\n\n      const buffers = [];\n      let downloaded = 0;\n\n      const channel = await google.colab.kernel.comms.open(id);\n      // Send a message to notify the kernel that we're ready.\n      channel.send({})\n\n      for await (const message of channel.messages) {\n        // Send a message to notify the kernel that we're ready.\n        channel.send({})\n        if (message.buffers) {\n          for (const buffer of message.buffers) {\n            buffers.push(buffer);\n            downloaded += buffer.byteLength;\n            progress.value = downloaded;\n          }\n        }\n      }\n      const blob = new Blob(buffers, {type: 'application/binary'});\n      const a = document.createElement('a');\n      a.href = window.URL.createObjectURL(blob);\n      a.download = filename;\n      div.appendChild(a);\n      a.click();\n      div.remove();\n    }\n  ",
            "text/plain": [
              "<IPython.core.display.Javascript object>"
            ]
          },
          "metadata": {},
          "output_type": "display_data"
        },
        {
          "data": {
            "application/javascript": "download(\"download_66e80b5d-0498-4724-9cfb-39fdfb204651\", \"segments.shp\", 382108)",
            "text/plain": [
              "<IPython.core.display.Javascript object>"
            ]
          },
          "metadata": {},
          "output_type": "display_data"
        }
      ],
      "source": [
        "# Сохранение данных о сегметнах\n",
        "tram_shops_paths_df.to_file(\"segments.shp\", mode = \"w\", crs = \"EPSG:32637\", driver='ESRI Shapefile', encoding = \"UTF-8\")\n",
        "files.download(\"segments.shp\")"
      ]
    },
    {
      "cell_type": "code",
      "execution_count": 22,
      "metadata": {
        "colab": {
          "base_uri": "https://localhost:8080/",
          "height": 17
        },
        "id": "j_ZkU1ANDUUj",
        "outputId": "db6bbd82-ebd1-4ba5-d070-99156304ccf8"
      },
      "outputs": [
        {
          "data": {
            "application/javascript": "\n    async function download(id, filename, size) {\n      if (!google.colab.kernel.accessAllowed) {\n        return;\n      }\n      const div = document.createElement('div');\n      const label = document.createElement('label');\n      label.textContent = `Downloading \"${filename}\": `;\n      div.appendChild(label);\n      const progress = document.createElement('progress');\n      progress.max = size;\n      div.appendChild(progress);\n      document.body.appendChild(div);\n\n      const buffers = [];\n      let downloaded = 0;\n\n      const channel = await google.colab.kernel.comms.open(id);\n      // Send a message to notify the kernel that we're ready.\n      channel.send({})\n\n      for await (const message of channel.messages) {\n        // Send a message to notify the kernel that we're ready.\n        channel.send({})\n        if (message.buffers) {\n          for (const buffer of message.buffers) {\n            buffers.push(buffer);\n            downloaded += buffer.byteLength;\n            progress.value = downloaded;\n          }\n        }\n      }\n      const blob = new Blob(buffers, {type: 'application/binary'});\n      const a = document.createElement('a');\n      a.href = window.URL.createObjectURL(blob);\n      a.download = filename;\n      div.appendChild(a);\n      a.click();\n      div.remove();\n    }\n  ",
            "text/plain": [
              "<IPython.core.display.Javascript object>"
            ]
          },
          "metadata": {},
          "output_type": "display_data"
        },
        {
          "data": {
            "application/javascript": "download(\"download_13bbf754-219e-4cd3-bf70-8b04dc0e13bc\", \"segments.dbf\", 1623696)",
            "text/plain": [
              "<IPython.core.display.Javascript object>"
            ]
          },
          "metadata": {},
          "output_type": "display_data"
        }
      ],
      "source": [
        "tram_shops_paths_df.to_file(\"segments.dbf\", mode = \"w\", crs = \"EPSG:32637\", driver='ESRI Shapefile', encoding = \"UTF-8\")\n",
        "files.download(\"segments.dbf\")"
      ]
    },
    {
      "cell_type": "code",
      "execution_count": 23,
      "metadata": {
        "colab": {
          "base_uri": "https://localhost:8080/",
          "height": 17
        },
        "id": "bmQyV_42DXj-",
        "outputId": "201b443d-13fa-4d36-b878-f8c282990480"
      },
      "outputs": [
        {
          "data": {
            "application/javascript": "\n    async function download(id, filename, size) {\n      if (!google.colab.kernel.accessAllowed) {\n        return;\n      }\n      const div = document.createElement('div');\n      const label = document.createElement('label');\n      label.textContent = `Downloading \"${filename}\": `;\n      div.appendChild(label);\n      const progress = document.createElement('progress');\n      progress.max = size;\n      div.appendChild(progress);\n      document.body.appendChild(div);\n\n      const buffers = [];\n      let downloaded = 0;\n\n      const channel = await google.colab.kernel.comms.open(id);\n      // Send a message to notify the kernel that we're ready.\n      channel.send({})\n\n      for await (const message of channel.messages) {\n        // Send a message to notify the kernel that we're ready.\n        channel.send({})\n        if (message.buffers) {\n          for (const buffer of message.buffers) {\n            buffers.push(buffer);\n            downloaded += buffer.byteLength;\n            progress.value = downloaded;\n          }\n        }\n      }\n      const blob = new Blob(buffers, {type: 'application/binary'});\n      const a = document.createElement('a');\n      a.href = window.URL.createObjectURL(blob);\n      a.download = filename;\n      div.appendChild(a);\n      a.click();\n      div.remove();\n    }\n  ",
            "text/plain": [
              "<IPython.core.display.Javascript object>"
            ]
          },
          "metadata": {},
          "output_type": "display_data"
        },
        {
          "data": {
            "application/javascript": "download(\"download_538086b6-5846-42a9-9c47-fefca75288a1\", \"segments.shx\", 34828)",
            "text/plain": [
              "<IPython.core.display.Javascript object>"
            ]
          },
          "metadata": {},
          "output_type": "display_data"
        }
      ],
      "source": [
        "tram_shops_paths_df.to_file(\"segments.shx\", mode = \"w\", crs = \"EPSG:32637\", driver='ESRI Shapefile', encoding = \"UTF-8\")\n",
        "files.download(\"segments.shx\")"
      ]
    },
    {
      "cell_type": "code",
      "execution_count": null,
      "metadata": {
        "id": "k3G7yNlO9_Mu"
      },
      "outputs": [],
      "source": [
        "# Сохранение данных о трамвайных остановках\n",
        "tram_stop_df.to_file(\"tram_stop_poi.shp\", mode = \"w\", crs = \"EPSG:32637\", driver='ESRI Shapefile', encoding = \"UTF-8\")\n",
        "files.download(\"tram_stop_poi.shp\")"
      ]
    },
    {
      "cell_type": "code",
      "execution_count": null,
      "metadata": {
        "id": "JXzbFXA-De6H"
      },
      "outputs": [],
      "source": [
        "tram_stop_df.to_file(\"tram_stop_poi.dbf\", mode = \"w\", crs = \"EPSG:32637\", driver='ESRI Shapefile', encoding = \"UTF-8\")\n",
        "files.download(\"tram_stop_poi.dbf\")"
      ]
    },
    {
      "cell_type": "code",
      "execution_count": null,
      "metadata": {
        "id": "1UIA6hLyDluZ"
      },
      "outputs": [],
      "source": [
        "tram_stop_df.to_file(\"tram_stop_poi.shx\", mode = \"w\", crs = \"EPSG:32637\", driver='ESRI Shapefile', encoding = \"UTF-8\")\n",
        "files.download(\"tram_stop_poi.shx\")"
      ]
    },
    {
      "cell_type": "code",
      "execution_count": null,
      "metadata": {
        "id": "7jO8ri4OOYfy"
      },
      "outputs": [],
      "source": [
        "# Сохранение данных о магазинах вблизи трамвайных остановок\n",
        "shops_near_tram_stops_df.to_file(\"shop_near_stops_poi.shp\", mode = \"w\", driver='ESRI Shapefile', crs = \"EPSG:32637\", encoding = \"UTF-8\")\n",
        "files.download(\"shop_near_stops_poi.shp\")"
      ]
    },
    {
      "cell_type": "code",
      "execution_count": null,
      "metadata": {
        "id": "_g7j-knjO-FE"
      },
      "outputs": [],
      "source": [
        "shops_near_tram_stops_df.to_file(\"shop_near_stops_poi.dbf\", mode = \"w\", driver='ESRI Shapefile', crs = \"EPSG:32637\", encoding = \"UTF-8\")\n",
        "files.download(\"shop_near_stops_poi.dbf\")"
      ]
    },
    {
      "cell_type": "code",
      "execution_count": null,
      "metadata": {
        "id": "-fBfp0epPFPp"
      },
      "outputs": [],
      "source": [
        "shops_near_tram_stops_df.to_file(\"shop_near_stops_poi.shx\", mode = \"w\", driver='ESRI Shapefile', crs = \"EPSG:32637\", encoding = \"UTF-8\")\n",
        "files.download(\"shop_near_stops_poi.shx\")"
      ]
    }
  ],
  "metadata": {
    "colab": {
      "provenance": []
    },
    "kernelspec": {
      "display_name": "Python 3",
      "name": "python3"
    },
    "language_info": {
      "name": "python"
    }
  },
  "nbformat": 4,
  "nbformat_minor": 0
}
